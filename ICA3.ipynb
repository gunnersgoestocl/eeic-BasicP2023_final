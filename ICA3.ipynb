{
 "cells": [
  {
   "cell_type": "code",
   "execution_count": 25,
   "metadata": {},
   "outputs": [],
   "source": [
    "import numpy as np\n",
    "import matplotlib.pyplot as plt\n",
    "import scipy as sp\n",
    "import random\n",
    "\n",
    "def ICA(datanum, X, datadim):\n",
    "    \n",
    "    X = np.array(X) \n",
    "    datasize, datanum = X.shape     # datasizeは時系列の数、datanumはデータ数\n",
    "    \n",
    "    # Xの各列ベクトルの平均を0にする\n",
    "    X = X - np.mean(X, axis=0)\n",
    "    X = X.T\n",
    "    \n",
    "    # 共分散行列を求める\n",
    "    # 共分散行列VarSigmaは、以下の式で求める\n",
    "    # VarSigma = E[x_j * x_j^T]\n",
    "    VarSigma = np.zeros((datanum, datanum))\n",
    "    for j in range(datasize):\n",
    "        VarSigma += np.outer(X[:,j], X[:,j])    # np.outerは直積(ベクトルどうしのテンソル積)\n",
    "    VarSigma /= datasize\n",
    "    \n",
    "    # 対称行列の直交行列による対角化\n",
    "    def Eigenvalue_decomp(A):\n",
    "        # A: 対称行列\n",
    "        # return: 対角化された対称行列D, 直交行列E\n",
    "        # A = EDE^T\n",
    "        # D: 対角行列\n",
    "        # E: 直交行列\n",
    "        la, U = np.linalg.eig(A)\n",
    "        D = np.diag(la)\n",
    "        E, _ = np.linalg.qr(U)\n",
    "        return D, E\n",
    "    \n",
    "    # 共分散行列を直交行列Eにより対角化する\n",
    "    # D: 対角行列\n",
    "    # E: 直交行列\n",
    "    D, E = Eigenvalue_decomp(VarSigma)\n",
    "    \n",
    "    # V = E * D^(-1/2) * E^T    を求める\n",
    "    D_sub = np.linalg.inv(np.power(D, 0.5))\n",
    "    V = np.matmul(np.matmul(E, D_sub), E.T)\n",
    "\n",
    "    # 列ベクトルがz_jになる行列Zを求める(このZを介してXを独立な信号源に変換する)\n",
    "    Z = np.matmul(V, X)\n",
    "    \n",
    "    flag2 = 0\n",
    "    while flag2 == 0:\n",
    "        # 信号源は、観測データの線形結合で表されると仮定し、Zから独立な信号源への変換行列Wを求める\n",
    "        # 適当な行列Wを用意し、初期化する\n",
    "        # 行列のサイズは、datadim×datanumとする\n",
    "        W = []\n",
    "        for j in range(datadim):\n",
    "            W.append([random.random() for i in range(datanum)])\n",
    "        W = np.array(W)\n",
    "        \n",
    "        # Wを行ベクトル(datadim次元)ごとに正規化する\n",
    "        for i in range(datadim):\n",
    "            W[i] /= np.linalg.norm(W[i])\n",
    "        print(\"W:\",W)\n",
    "            \n",
    "        # Wの行ベクトルを更新する(第i行ベクトルを更新する)\n",
    "        # Wの第i行ベクトルを転置したもの(N次元列ベクトル)をwt_iとし、以下の式で更新する\n",
    "        # wt_i = E[z_j * (wt_i^T * z_j)^3] - 3 * wt_i\n",
    "        # 更新したwt_iを正規化する\n",
    "        # 変化している場合は、更新を続ける\n",
    "        for i in range(datadim):\n",
    "            wt_i = W[i]\n",
    "            while True:\n",
    "                wt_i_old = wt_i\n",
    "                wt_i = np.zeros(datanum)\n",
    "                for j in range(datasize):\n",
    "                    wt_i += Z[:,j] * np.power(np.dot(wt_i_old, Z[:,j]), 3)\n",
    "                wt_i /= datasize\n",
    "                wt_i -= 3 * wt_i_old\n",
    "                wt_i /= np.linalg.norm(wt_i)\n",
    "                # 振動するのを防ぐために、wt_iの第1成分を正にする\n",
    "                if wt_i[0] < 0:\n",
    "                    wt_i *= -1\n",
    "                # 更新幅が小さくなったら終了\n",
    "                if np.linalg.norm(wt_i - wt_i_old) < 0.00001:\n",
    "                    break\n",
    "            # 初期値次第では、同じ行ベクトルが複数生成される場合があるので、それを防ぐ\n",
    "            if i > 0:\n",
    "                flag = 0\n",
    "                # すでに生成された行ベクトルと同じものが生成された場合は、再生成する\n",
    "                for j in range(i):\n",
    "                    if np.linalg.norm(wt_i - W[j]) < 0.5:\n",
    "                        W[i] = [random.random() for i in range(datanum)]\n",
    "                        # 正規化する\n",
    "                        W[i] /= np.linalg.norm(W[i])\n",
    "                        i -= 1\n",
    "                        flag = 1\n",
    "                        break\n",
    "                if flag == 0:\n",
    "                    W[i] = wt_i\n",
    "            else:\n",
    "                W[i] = wt_i\n",
    "        print(\"W:\", W)\n",
    "        \n",
    "        # ZをWで変換し、独立な信号源Yを求める\n",
    "        Y = np.matmul(W,Z)\n",
    "        \n",
    "        # Yの二つの行ベクトルの相関係数を求め、大きい場合は独立な信号源として扱わない\n",
    "        flag2 = 1\n",
    "        cormatrix = np.corrcoef(Y)\n",
    "        for i in range(datadim):\n",
    "            for j in range(i+1, datadim):\n",
    "                # print(\"Y[\",i,\"]とY[\",j,\"]の相関係数:\",np.corrcoef(Y[i], Y[j]))\n",
    "                if cormatrix[i][j]>0.2:\n",
    "                    flag2 = 0\n",
    "                    break\n",
    "            if flag2 == 0:\n",
    "                break\n",
    "    \n",
    "    \n",
    "    # 図示する\n",
    "    plt.plot(Y[0])\n",
    "    plt.plot(Y[1])\n",
    "    plt.show()\n",
    "    \n",
    "    return Y"
   ]
  },
  {
   "cell_type": "code",
   "execution_count": 2,
   "metadata": {},
   "outputs": [],
   "source": [
    "from PIL import Image"
   ]
  },
  {
   "cell_type": "code",
   "execution_count": 26,
   "metadata": {},
   "outputs": [
    {
     "name": "stdout",
     "output_type": "stream",
     "text": [
      "(512, 512)\n"
     ]
    }
   ],
   "source": [
    "# 画像を読み込む\n",
    "img1 = Image.open(\"data/image1.png\")\n",
    "img2 = Image.open(\"data/image2.png\")\n",
    "img_pixels1 = np.array(img1)\n",
    "img_pixels2 = np.array(img2)\n",
    "print(img_pixels1.shape)\n",
    "horizontal, vertical= img_pixels1.shape\n",
    "\n",
    "# 画像を一次元化する\n",
    "img_pixels1d = img_pixels1.reshape(-1)\n",
    "img_pixels2d = img_pixels2.reshape(-1)\n",
    "original_data = np.array([img_pixels1d, img_pixels2d])"
   ]
  },
  {
   "cell_type": "code",
   "execution_count": 11,
   "metadata": {},
   "outputs": [],
   "source": [
    "img1.show()"
   ]
  },
  {
   "cell_type": "code",
   "execution_count": 12,
   "metadata": {},
   "outputs": [],
   "source": [
    "img2.show()"
   ]
  },
  {
   "cell_type": "code",
   "execution_count": 27,
   "metadata": {},
   "outputs": [
    {
     "name": "stdout",
     "output_type": "stream",
     "text": [
      "original_data[ 0 ].shape: (262144,)\n",
      "original_data[ 1 ].shape: (262144,)\n"
     ]
    }
   ],
   "source": [
    "datanum = 2\n",
    "# 各時系列データのデータ数が等しいことを確認する\n",
    "for i in range(datanum):\n",
    "    print(\"original_data[\",i,\"].shape:\",original_data[i].shape)\n",
    "\n",
    "data = np.array(original_data).T.tolist()"
   ]
  },
  {
   "cell_type": "code",
   "execution_count": 28,
   "metadata": {},
   "outputs": [
    {
     "name": "stdout",
     "output_type": "stream",
     "text": [
      "W: [[0.9747224  0.22341942]\n",
      " [0.51045122 0.85990671]]\n",
      "W: [[ 0.99858365 -0.05320426]\n",
      " [ 0.0336141  -0.99943489]]\n"
     ]
    },
    {
     "data": {
      "image/png": "[encoded data removed]",
      "text/plain": [
       "<Figure size 640x480 with 1 Axes>"
      ]
     },
     "metadata": {},
     "output_type": "display_data"
    }
   ],
   "source": [
    "datadim = 2\n",
    "Y = ICA(datanum, data, datadim)"
   ]
  },
  {
   "cell_type": "code",
   "execution_count": 29,
   "metadata": {},
   "outputs": [],
   "source": [
    "# 画像を復元する\n",
    "# unsined int型に変換する\n",
    "Y *= 50\n",
    "Y = Y.astype(np.uint8)\n",
    "# 一次元化した画像を二次元化する\n",
    "Image.fromarray(Y[0].reshape((horizontal, vertical))).save(\"data/image1_re.png\")\n",
    "Image.fromarray(Y[1].reshape((horizontal, vertical))).save(\"data/image2_re.png\")"
   ]
  },
  {
   "cell_type": "code",
   "execution_count": 30,
   "metadata": {},
   "outputs": [],
   "source": [
    "Image.open(\"data/image1_re.png\").show()"
   ]
  },
  {
   "cell_type": "code",
   "execution_count": 31,
   "metadata": {},
   "outputs": [],
   "source": [
    "Image.open(\"data/image2_re.png\").show()"
   ]
  },
  {
   "cell_type": "code",
   "execution_count": null,
   "metadata": {},
   "outputs": [],
   "source": []
  }
 ],
 "metadata": {
  "kernelspec": {
   "display_name": "Python 3",
   "language": "python",
   "name": "python3"
  },
  "language_info": {
   "codemirror_mode": {
    "name": "ipython",
    "version": 3
   },
   "file_extension": ".py",
   "mimetype": "text/x-python",
   "name": "python",
   "nbconvert_exporter": "python",
   "pygments_lexer": "ipython3",
   "version": "3.9.6"
  }
 },
 "nbformat": 4,
 "nbformat_minor": 2
}
