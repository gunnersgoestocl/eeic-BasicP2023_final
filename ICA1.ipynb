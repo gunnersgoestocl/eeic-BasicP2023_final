{
 "cells": [
  {
   "cell_type": "code",
   "execution_count": 1,
   "metadata": {},
   "outputs": [],
   "source": [
    "import numpy as np\n",
    "import matplotlib.pyplot as plt\n",
    "import scipy as sp\n",
    "import random"
   ]
  },
  {
   "cell_type": "code",
   "execution_count": 18,
   "metadata": {},
   "outputs": [
    {
     "data": {
      "text/plain": [
       "3142"
      ]
     },
     "execution_count": 18,
     "metadata": {},
     "output_type": "execute_result"
    }
   ],
   "source": [
    "# - データの読み込み(dat1.txt, dat2.txt)\n",
    "#   - 1行に1つのデータが入っている\n",
    "#   - dat1とdat2の同時刻の(j行目の)データを縦に並べて、列ベクトルx_jに格納し、これを横に並べて行列Xを作る\n",
    "#     - 列ベクトルの要素数は、2\n",
    "\n",
    "\n",
    "f1 = open('data/dat1.txt')\n",
    "f2 = open('data/dat2.txt')\n",
    "X = []\n",
    "while True:\n",
    "    line1 = f1.readline()\n",
    "    line2 = f2.readline()\n",
    "    if not line1:\n",
    "        break\n",
    "    # print(line1, end='')\n",
    "    # print(line2, end='')\n",
    "    X.append([float(line1), float(line2)])\n",
    "X = np.array(X) \n",
    "# X = X.T\n",
    "# type(X)\n",
    "# datanum, datasize = X.shape\n",
    "# datasizeは時系列の数、datanumはデータ数\n",
    "datasize, datanum = X.shape\n",
    "# datadimは信号源の数\n",
    "datadim = 2\n",
    "datasize\n"
   ]
  },
  {
   "cell_type": "code",
   "execution_count": 20,
   "metadata": {},
   "outputs": [],
   "source": [
    "# Xの各列ベクトルの平均を0にする\n",
    "X = X - np.mean(X, axis=0)\n",
    "X = X.T"
   ]
  },
  {
   "cell_type": "markdown",
   "metadata": {},
   "source": [
    "**この時点で、列ベクトルは、同時刻の各出力の値を表す。**"
   ]
  },
  {
   "cell_type": "code",
   "execution_count": 24,
   "metadata": {},
   "outputs": [],
   "source": [
    "# 共分散行列を求める\n",
    "# 観測データ(列ベクトル)x_jの共分散行列(自己相関行列)を求め、jを変化させたときの期待値を取る\n",
    "# 共分散行列VarSigmaは、以下の式で求める\n",
    "# VarSigma = E[x_j * x_j^T]\n",
    "VarSigma = np.zeros((datanum, datanum))\n",
    "for j in range(datasize):\n",
    "    VarSigma += np.outer(X[:,j], X[:,j])    # np.outerは直積(ベクトルどうしのテンソル積)\n",
    "    # if j == 0:\n",
    "    #     print(np.outer(X[:,j], X[:,j])) \n",
    "VarSigma /= datasize"
   ]
  },
  {
   "cell_type": "code",
   "execution_count": 10,
   "metadata": {},
   "outputs": [],
   "source": [
    "# 対称行列の直交行列による対角化\n",
    "def Eigenvalue_decomp(A):\n",
    "    # A: 対称行列\n",
    "    # return: 対角化された対称行列D, 直交行列E\n",
    "    # A = EDE^T\n",
    "    # D: 対角行列\n",
    "    # E: 直交行列\n",
    "    la, U = np.linalg.eig(A)\n",
    "    D = np.diag(la)\n",
    "    E, _ = np.linalg.qr(U)\n",
    "    return D, E"
   ]
  },
  {
   "cell_type": "code",
   "execution_count": 26,
   "metadata": {},
   "outputs": [
    {
     "data": {
      "text/plain": [
       "(array([[-2.,  0.],\n",
       "        [ 0.,  5.]]),\n",
       " array([[-0.70710678,  0.70710678],\n",
       "        [ 0.70710678,  0.70710678]]))"
      ]
     },
     "execution_count": 26,
     "metadata": {},
     "output_type": "execute_result"
    }
   ],
   "source": [
    "# Eigenvalue_decomp のテスト\n",
    "Eigenvalue_decomp(np.array([[1,3],[4,2]]))"
   ]
  },
  {
   "cell_type": "code",
   "execution_count": 27,
   "metadata": {},
   "outputs": [],
   "source": [
    "# 共分散行列を直交行列Eにより対角化する\n",
    "# D: 対角行列\n",
    "# E: 直交行列\n",
    "D, E = Eigenvalue_decomp(VarSigma)"
   ]
  },
  {
   "cell_type": "code",
   "execution_count": 28,
   "metadata": {},
   "outputs": [
    {
     "data": {
      "text/plain": [
       "array([[-0.03086894,  0.80603301,  0.81394988, ...,  0.77758953,\n",
       "         0.78550556,  0.79342286],\n",
       "       [ 0.02088309, -0.52819507, -0.51647746, ..., -0.57029371,\n",
       "        -0.55857734, -0.54685911]])"
      ]
     },
     "execution_count": 28,
     "metadata": {},
     "output_type": "execute_result"
    }
   ],
   "source": [
    "# V = E * D^(-1/2) * E^T\n",
    "# を求める\n",
    "D_sub = np.linalg.inv(np.power(D, 0.5))\n",
    "V = np.matmul(np.matmul(E, D_sub), E.T)\n",
    "\n",
    "# 列ベクトルがz_jになる行列Zを求める\n",
    "\n",
    "Z = np.matmul(V, X)\n",
    "\n",
    "# eig_vec\n",
    "\n",
    "Z"
   ]
  },
  {
   "cell_type": "code",
   "execution_count": 29,
   "metadata": {},
   "outputs": [],
   "source": [
    "# 続いて、観測データから信号源を与える行列Wを、以下の手順で求める。\n",
    "# 信号源は、観測データの線形結合で表されると仮定する。\n",
    "\n",
    "# 適当な行列Wを用意する\n",
    "# 従って行列のサイズは、datadim×datanumとする\n",
    "W = []\n",
    "for j in range(datadim):\n",
    "    W.append([random.random() for i in range(datanum)])\n",
    "W = np.array(W)\n",
    "# W = np.array([np.array([random.random() for i in range(datasize)]) for j in range(datasize)])"
   ]
  },
  {
   "cell_type": "code",
   "execution_count": 30,
   "metadata": {},
   "outputs": [],
   "source": [
    "# Wを行ベクトル(datadim次元)ごとに正規化する\n",
    "for i in range(datadim):\n",
    "    W[i] /= np.linalg.norm(W[i])"
   ]
  },
  {
   "cell_type": "code",
   "execution_count": 31,
   "metadata": {},
   "outputs": [
    {
     "data": {
      "text/plain": [
       "array([[0.97778451, 0.20961263],\n",
       "       [0.0694512 , 0.99758535]])"
      ]
     },
     "execution_count": 31,
     "metadata": {},
     "output_type": "execute_result"
    }
   ],
   "source": [
    "# Wの初期化のテスト\n",
    "W"
   ]
  },
  {
   "cell_type": "code",
   "execution_count": 32,
   "metadata": {},
   "outputs": [
    {
     "data": {
      "text/plain": [
       "array([0.0694512 , 0.99758535])"
      ]
     },
     "execution_count": 32,
     "metadata": {},
     "output_type": "execute_result"
    }
   ],
   "source": [
    "W[1].T"
   ]
  },
  {
   "cell_type": "code",
   "execution_count": 34,
   "metadata": {},
   "outputs": [
    {
     "data": {
      "text/plain": [
       "array([ 2.41809902, -1.58458522])"
      ]
     },
     "execution_count": 34,
     "metadata": {},
     "output_type": "execute_result"
    }
   ],
   "source": [
    "Z[:,1] * 3"
   ]
  },
  {
   "cell_type": "code",
   "execution_count": 43,
   "metadata": {},
   "outputs": [
    {
     "name": "stdout",
     "output_type": "stream",
     "text": [
      "0 [0.97778451 0.20961263]\n",
      "wt_ 0 : [2.07711457 0.53532004]\n",
      "0 [0.9940884  0.10857368]\n",
      "wt_ 0 : [2.02956417 0.48766661]\n",
      "0 [ 0.98585817 -0.16758182]\n",
      "wt_ 0 : [1.65579077 0.25616046]\n",
      "0 [ 0.86391403 -0.50363931]\n",
      "wt_ 0 : [ 0.95075695 -0.40134845]\n",
      "0 [ 0.82840257 -0.56013318]\n",
      "wt_ 0 : [ 0.832865   -0.56402027]\n",
      "0 [ 0.82860491 -0.55983382]\n",
      "wt_ 0 : [ 0.83347522 -0.56311675]\n",
      "break\n",
      "[ 0.82860314 -0.55983644]\n",
      "1 [0.0694512  0.99758535]\n",
      "wt_ 1 : [-0.13154408  2.05423462]\n",
      "1 [0.34051919 0.94023757]\n",
      "wt_ 1 : [0.27702067 1.6748605 ]\n",
      "1 [0.54485096 0.8385329 ]\n",
      "wt_ 1 : [0.79465487 1.27394345]\n",
      "1 [0.56028866 0.82829742]\n",
      "wt_ 1 : [0.84080049 1.24243229]\n",
      "1 [0.56011626 0.82841401]\n",
      "wt_ 1 : [0.84028021 1.24278403]\n",
      "break\n",
      "[0.56011827 0.82841265]\n"
     ]
    }
   ],
   "source": [
    "# Wの行ベクトルを更新する(第i行ベクトルを更新する)\n",
    "# Wの第i行ベクトルを転置したもの(N次元列ベクトル)をwt_iとする\n",
    "# 列ベクトルwt_iを以下の式で更新する\n",
    "# wt_i = E[z_j * (wt_i^T * z_j)^3] - 3 * wt_i\n",
    "# E[]はjを変化させたときの期待値を表す\n",
    "# 更新したwt_iを正規化する\n",
    "# wt_iが更新により変化しなくなったら、Wの第i行ベクトルをwt_iの転置とし、変化している場合は、更新を続ける\n",
    "for i in range(datadim):\n",
    "    wt_i = W[i]\n",
    "    while True:\n",
    "        wt_i_old = wt_i\n",
    "        wt_i = np.zeros(datanum)\n",
    "        print(i, wt_i_old)\n",
    "        for j in range(datasize):\n",
    "            wt_i += Z[:,j] * np.power(np.dot(wt_i_old, Z[:,j]), 3)\n",
    "        wt_i /= datasize\n",
    "        print(\"wt_\",i,\":\",wt_i)\n",
    "        wt_i -= 3 * wt_i_old\n",
    "        wt_i /= np.linalg.norm(wt_i)\n",
    "        # 振動するのを防ぐために、wt_iの第1成分を正にする\n",
    "        if wt_i[0] < 0:\n",
    "            wt_i *= -1\n",
    "        # 更新幅が小さくなったら終了\n",
    "        if np.linalg.norm(wt_i - wt_i_old) < 0.0001:\n",
    "            print(\"break\")\n",
    "            break\n",
    "    W[i] = wt_i\n",
    "    print(W[i])"
   ]
  },
  {
   "cell_type": "code",
   "execution_count": 45,
   "metadata": {},
   "outputs": [
    {
     "data": {
      "image/png": "[encoded data removed]",
      "text/plain": [
       "<Figure size 640x480 with 1 Axes>"
      ]
     },
     "metadata": {},
     "output_type": "display_data"
    }
   ],
   "source": [
    "Y = np.matmul(W,Z)\n",
    "plt.plot(Y[0])\n",
    "plt.plot(Y[1])\n",
    "plt.show()"
   ]
  },
  {
   "cell_type": "code",
   "execution_count": null,
   "metadata": {},
   "outputs": [],
   "source": []
  }
 ],
 "metadata": {
  "kernelspec": {
   "display_name": "Python 3",
   "language": "python",
   "name": "python3"
  },
  "language_info": {
   "codemirror_mode": {
    "name": "ipython",
    "version": 3
   },
   "file_extension": ".py",
   "mimetype": "text/x-python",
   "name": "python",
   "nbconvert_exporter": "python",
   "pygments_lexer": "ipython3",
   "version": "3.9.6"
  }
 },
 "nbformat": 4,
 "nbformat_minor": 2
}
