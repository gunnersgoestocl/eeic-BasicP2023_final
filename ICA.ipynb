{
 "cells": [
  {
   "cell_type": "code",
   "execution_count": 32,
   "metadata": {},
   "outputs": [],
   "source": [
    "import numpy as np\n",
    "import matplotlib.pyplot as plt\n",
    "import scipy as sp"
   ]
  },
  {
   "cell_type": "markdown",
   "metadata": {},
   "source": [
    "## **以下のことを行う**\n",
    "- 基底の数（信号源の数）は2とする\n",
    "\n",
    "- データの読み込み(dat1.txt, dat2.txt)\n",
    "  - 1行に1つのデータが入っている\n",
    "  - dat1のデータとdat2のデータをそれぞれ縦に並べて、列ベクトルに格納し、これを２つ横に並べて行列Xを作る\n",
    "    - 列ベクトルの要素数は、データの行数datasizeと同じ\n",
    "- 観測データx_j(Xの第j列ベクトル)を以下の手順で無相関化(白色化)する\n",
    "  - 列ベクトルの平均を0にする\n",
    "  - 観測データ(列ベクトル)x_jの共分散行列(自己相関行列)を求め、jを変化させたときの期待値を取る\n",
    "    - 共分散行列VarSigmaは、以下の式で求める\n",
    "      - VarSigma = E[x_j * x_j^T]\n",
    "  - 共分散行列VarSigmaを直交行列Eにより対角化する\n",
    "  - 対角化した共分散行列Dの逆行列の平方根に、左から直交行列を、右からその転置をかけることで、新たな行列Vを求める\n",
    "  - 観測データ(列ベクトル)にVをかけることで、無相関化されたデータ(列ベクトル)z_jを得る\n",
    "    - z_jの共分散行列の期待値は、単位行列になることを確認する\n",
    "- 続いて、観測データから信号源を与える行列Wを、以下の手順で求める。\n",
    "  - 適当な行列Wを用意する\n",
    "    - 従って行列のサイズは、N×Nとする\n",
    "  - Wを行ベクトル(N次元)ごとに正規化する\n",
    "  - Wの行ベクトルを更新する(第i行ベクトルを更新する)\n",
    "    - Wの第i行ベクトルを転置したもの(N次元列ベクトル)をwt_iとする\n",
    "    - 列ベクトルwt_iを以下の式で更新する\n",
    "      - wt_i = E[z_j * (wt_i^T * z_j)^3] - 3 * wt_i\n",
    "      - E[]はjを変化させたときの期待値を表す\n",
    "    - 更新したwt_iを正規化する\n",
    "    - wt_iが更新により変化しなくなったら、Wの第i行ベクトルをwt_iの転置とし、変化している場合は、更新を続ける\n",
    "- Wを用いて、観測データから信号源を推定する\n",
    "  - 推定した信号源を行列Signal_jとする\n",
    "  - signal_j = W * z_j\n",
    "- 以上の手順を、信号源の数だけ繰り返す\n",
    "- Sの各行ベクトルを、グラフにプロットする"
   ]
  },
  {
   "cell_type": "code",
   "execution_count": 104,
   "metadata": {},
   "outputs": [
    {
     "data": {
      "text/plain": [
       "1000"
      ]
     },
     "execution_count": 104,
     "metadata": {},
     "output_type": "execute_result"
    }
   ],
   "source": [
    "# - データの読み込み(dat1.txt, dat2.txt)\n",
    "#   - 1行に1つのデータが入っている\n",
    "#   - dat1とdat2の同時刻の(j行目の)データを縦に並べて、列ベクトルx_jに格納し、これを横に並べて行列Xを作る\n",
    "#     - 列ベクトルの要素数は、2\n",
    "\n",
    "\n",
    "f1 = open('data/dat1.txt')\n",
    "f2 = open('data/dat2.txt')\n",
    "X = np.array([np.array([float(f1.readline()), float(f2.readline())]) for i in range(1000)])\n",
    "# X = X.T\n",
    "# type(X)\n",
    "# datanum, datasize = X.shape\n",
    "datasize, datanum = X.shape\n",
    "datasize"
   ]
  },
  {
   "cell_type": "code",
   "execution_count": null,
   "metadata": {},
   "outputs": [],
   "source": [
    "X[:,0]"
   ]
  },
  {
   "cell_type": "code",
   "execution_count": 108,
   "metadata": {},
   "outputs": [],
   "source": [
    "# 対称行列の直交行列による対角化\n",
    "def Eigenvalue_decomp(A):\n",
    "    # A: 対称行列\n",
    "    # return: 対角化された対称行列D, 直交行列E\n",
    "    # A = EDE^T\n",
    "    # D: 対角行列\n",
    "    # E: 直交行列\n",
    "    # D = np.zeros(A.shape)\n",
    "    # E = np.zeros(A.shape)\n",
    "    # for i in range(A.shape[0]):\n",
    "    #     D[i,i] = A[i,i]\n",
    "    #     E[:,i] = A[:,i]\n",
    "    #     for j in range(i):\n",
    "    #         E[:,i] -= np.dot(A[:,i], E[:,j]) * E[:,j]\n",
    "    #     E[:,i] /= np.linalg.norm(E[:,i])\n",
    "    la, U = np.linalg.eig(A)\n",
    "    D = np.diag(la)\n",
    "    E, _ = np.linalg.qr(U)\n",
    "    return D, E"
   ]
  },
  {
   "cell_type": "code",
   "execution_count": 107,
   "metadata": {},
   "outputs": [],
   "source": [
    "# - 観測データx_j(Xの第j列ベクトル)を以下の手順で無相関化(白色化)する\n",
    "#   - 列ベクトルの平均を0にする\n",
    "#   - 観測データ(列ベクトル)x_jの共分散行列(自己相関行列)を求め、jを変化させたときの期待値を取る\n",
    "#     - 共分散行列VarSigmaは、以下の式で求める\n",
    "#       - VarSigma = E[x_j * x_j^T]\n",
    "#   - 共分散行列VarSigmaを直交行列Eにより対角化する\n",
    "#   - 対角化した共分散行列Dの逆行列の平方根に、左から直交行列を、右からその転置をかけることで、新たな行列Vを求める\n",
    "#   - 観測データ(列ベクトル)にVをかけることで、無相関化されたデータ(列ベクトル)z_jを得る\n",
    "#     - z_jの共分散行列の期待値は、単位行列になることを確認する\n",
    "\n",
    "# 共分散行列を求める\n",
    "# Xの各列ベクトルの平均を0にする\n",
    "X = X - np.mean(X, axis=0)\n",
    "# 観測データ(列ベクトル)x_jの共分散行列(自己相関行列)を求め、jを変化させたときの期待値を取る\n",
    "# 共分散行列VarSigmaは、以下の式で求める\n",
    "# VarSigma = E[x_j * x_j^T]\n",
    "VarSigma = np.zeros((datasize, datasize))\n",
    "for j in range(datanum):\n",
    "    VarSigma += np.outer(X[:,j], X[:,j])    # np.outerは直積(ベクトルどうしのテンソル積)\n",
    "VarSigma /= datanum"
   ]
  },
  {
   "cell_type": "code",
   "execution_count": 111,
   "metadata": {},
   "outputs": [
    {
     "data": {
      "text/plain": [
       "array([[ 3.70493837e+02+0.00000000e+00j,  0.00000000e+00+0.00000000e+00j,\n",
       "         0.00000000e+00+0.00000000e+00j, ...,\n",
       "         0.00000000e+00+0.00000000e+00j,  0.00000000e+00+0.00000000e+00j,\n",
       "         0.00000000e+00+0.00000000e+00j],\n",
       "       [ 0.00000000e+00+0.00000000e+00j,  7.41101035e+01+0.00000000e+00j,\n",
       "         0.00000000e+00+0.00000000e+00j, ...,\n",
       "         0.00000000e+00+0.00000000e+00j,  0.00000000e+00+0.00000000e+00j,\n",
       "         0.00000000e+00+0.00000000e+00j],\n",
       "       [ 0.00000000e+00+0.00000000e+00j,  0.00000000e+00+0.00000000e+00j,\n",
       "        -2.95967250e-14+7.92081935e-15j, ...,\n",
       "         0.00000000e+00+0.00000000e+00j,  0.00000000e+00+0.00000000e+00j,\n",
       "         0.00000000e+00+0.00000000e+00j],\n",
       "       ...,\n",
       "       [ 0.00000000e+00+0.00000000e+00j,  0.00000000e+00+0.00000000e+00j,\n",
       "         0.00000000e+00+0.00000000e+00j, ...,\n",
       "         2.99908573e-17+2.17475812e-17j,  0.00000000e+00+0.00000000e+00j,\n",
       "         0.00000000e+00+0.00000000e+00j],\n",
       "       [ 0.00000000e+00+0.00000000e+00j,  0.00000000e+00+0.00000000e+00j,\n",
       "         0.00000000e+00+0.00000000e+00j, ...,\n",
       "         0.00000000e+00+0.00000000e+00j,  2.99908573e-17-2.17475812e-17j,\n",
       "         0.00000000e+00+0.00000000e+00j],\n",
       "       [ 0.00000000e+00+0.00000000e+00j,  0.00000000e+00+0.00000000e+00j,\n",
       "         0.00000000e+00+0.00000000e+00j, ...,\n",
       "         0.00000000e+00+0.00000000e+00j,  0.00000000e+00+0.00000000e+00j,\n",
       "         1.59565269e-17+0.00000000e+00j]])"
      ]
     },
     "execution_count": 111,
     "metadata": {},
     "output_type": "execute_result"
    }
   ],
   "source": [
    "# 共分散行列を直交行列Eにより対角化する\n",
    "# D: 対角行列\n",
    "# E: 直交行列\n",
    "D, E = Eigenvalue_decomp(VarSigma)\n",
    "D"
   ]
  },
  {
   "cell_type": "code",
   "execution_count": 109,
   "metadata": {},
   "outputs": [
    {
     "data": {
      "text/plain": [
       "array([[-0.00974571+5.67524694e-09j, -0.00849917-8.78935680e-09j],\n",
       "       [ 0.02872155-2.10129656e-08j, -0.03176355-2.91038305e-08j],\n",
       "       [ 0.02910799+8.65111360e-09j, -0.03121292+2.07801349e-08j],\n",
       "       ...,\n",
       "       [ 0.00829305-5.58793545e-09j, -0.0608744 +9.54605639e-09j],\n",
       "       [ 0.00796368-1.11758709e-08j, -0.06134386+6.75208867e-09j],\n",
       "       [ 0.00763629-8.14907253e-09j, -0.06181039-4.94765118e-09j]])"
      ]
     },
     "execution_count": 109,
     "metadata": {},
     "output_type": "execute_result"
    }
   ],
   "source": [
    "# 共分散行列を直交行列Eにより対角化する\n",
    "# D: 対角行列\n",
    "# E: 直交行列\n",
    "D, E = Eigenvalue_decomp(VarSigma)\n",
    "\n",
    "# V = E * D^(-1/2) * E^T\n",
    "# を求める\n",
    "D_sub = np.linalg.inv(np.power(D, 0.5))\n",
    "V = np.matmul(np.matmul(E, D_sub), E.T)\n",
    "\n",
    "# 列ベクトルがz_jになる行列Zを求める\n",
    "\n",
    "Z = np.matmul(V, X)\n",
    "\n",
    "# eig_vec\n",
    "\n",
    "Z"
   ]
  },
  {
   "cell_type": "code",
   "execution_count": 102,
   "metadata": {},
   "outputs": [
    {
     "data": {
      "text/plain": [
       "(array([[1., 0.],\n",
       "        [0., 1.]]),\n",
       " array([[ 0.4472136 ,  0.89442719],\n",
       "        [ 0.89442719, -0.4472136 ]]))"
      ]
     },
     "execution_count": 102,
     "metadata": {},
     "output_type": "execute_result"
    }
   ],
   "source": [
    "Eigenvalue_decomp(np.array([[1,2],[2,1]]))"
   ]
  },
  {
   "cell_type": "code",
   "execution_count": 48,
   "metadata": {},
   "outputs": [],
   "source": [
    "import random"
   ]
  },
  {
   "cell_type": "code",
   "execution_count": 92,
   "metadata": {},
   "outputs": [],
   "source": [
    "# 続いて、観測データから信号源を与える行列Wを、以下の手順で求める。\n",
    "\n",
    "# 適当な行列Wを用意する\n",
    "# 従って行列のサイズは、N×Nとする\n",
    "W = []\n",
    "for j in range(datasize):\n",
    "    W.append([random.random() for i in range(datasize)])\n",
    "W = np.array(W)\n",
    "# W = np.array([np.array([random.random() for i in range(datasize)]) for j in range(datasize)])\n"
   ]
  },
  {
   "cell_type": "code",
   "execution_count": 91,
   "metadata": {},
   "outputs": [
    {
     "data": {
      "text/plain": [
       "array([[ 0.00041342,  0.0324505 ,  0.02706164, ...,  0.03956324,\n",
       "         0.03956204,  0.03956085],\n",
       "       [ 0.00041342,  0.0324505 ,  0.02706164, ...,  0.03956324,\n",
       "         0.03956204,  0.03956085],\n",
       "       [ 0.00041342,  0.0324505 ,  0.02706164, ...,  0.03956324,\n",
       "         0.03956204,  0.03956085],\n",
       "       ...,\n",
       "       [-0.00041342, -0.0324505 , -0.02706164, ..., -0.03956324,\n",
       "        -0.03956204, -0.03956085],\n",
       "       [ 0.00041342,  0.0324505 ,  0.02706164, ...,  0.03956324,\n",
       "         0.03956204,  0.03956085],\n",
       "       [-0.00041342, -0.0324505 , -0.02706164, ..., -0.03956324,\n",
       "        -0.03956204, -0.03956085]])"
      ]
     },
     "execution_count": 91,
     "metadata": {},
     "output_type": "execute_result"
    }
   ],
   "source": [
    "W"
   ]
  },
  {
   "cell_type": "code",
   "execution_count": 98,
   "metadata": {},
   "outputs": [],
   "source": [
    "# Wを行ベクトル(N次元)ごとに正規化する\n",
    "for i in range(datasize):\n",
    "    W[i] /= np.linalg.norm(W[i])"
   ]
  },
  {
   "cell_type": "code",
   "execution_count": 94,
   "metadata": {},
   "outputs": [
    {
     "data": {
      "text/plain": [
       "array([[0.05021002, 0.05160556, 0.0381165 , ..., 0.04401771, 0.02644773,\n",
       "        0.01149946],\n",
       "       [0.00364692, 0.00676549, 0.04317747, ..., 0.04433588, 0.04369667,\n",
       "        0.03214098],\n",
       "       [0.05666077, 0.01158431, 0.04819328, ..., 0.01023979, 0.04934573,\n",
       "        0.00833399],\n",
       "       ...,\n",
       "       [0.0098495 , 0.03103488, 0.05054194, ..., 0.02654911, 0.02280772,\n",
       "        0.04888906],\n",
       "       [0.02752932, 0.01527672, 0.04895454, ..., 0.02923944, 0.02040877,\n",
       "        0.04838371],\n",
       "       [0.01572206, 0.02712441, 0.01819341, ..., 0.03010811, 0.02657433,\n",
       "        0.02902981]])"
      ]
     },
     "execution_count": 94,
     "metadata": {},
     "output_type": "execute_result"
    }
   ],
   "source": [
    "W"
   ]
  },
  {
   "cell_type": "code",
   "execution_count": 95,
   "metadata": {},
   "outputs": [],
   "source": [
    "# Wの行ベクトルを更新する(第i行ベクトルを更新する)\n",
    "# Wの第i行ベクトルを転置したもの(N次元列ベクトル)をwt_iとする\n",
    "# 列ベクトルwt_iを以下の式で更新する\n",
    "# wt_i = E[z_j * (wt_i^T * z_j)^3] - 3 * wt_i\n",
    "# E[]はjを変化させたときの期待値を表す\n",
    "# 更新したwt_iを正規化する\n",
    "# wt_iが更新により変化しなくなったら、Wの第i行ベクトルをwt_iの転置とし、変化している場合は、更新を続ける\n",
    "for i in range(datasize):\n",
    "    wt_i = W[i].T\n",
    "    while True:\n",
    "        wt_i_old = wt_i\n",
    "        wt_i = np.zeros(datasize)\n",
    "        for j in range(datanum):\n",
    "            wt_i += Z[:,j] * np.power(np.dot(wt_i_old, Z[:,j]), 3) / datanum\n",
    "        wt_i -= 3 * wt_i_old\n",
    "        wt_i /= np.linalg.norm(wt_i)\n",
    "        if np.linalg.norm(wt_i - wt_i_old) < 0.0001:\n",
    "            break\n",
    "    W[i] = wt_i.T\n",
    "    print(W[i])"
   ]
  },
  {
   "cell_type": "code",
   "execution_count": 90,
   "metadata": {},
   "outputs": [
    {
     "data": {
      "text/plain": [
       "array([[ 0.00041342,  0.0324505 ,  0.02706164, ...,  0.03956324,\n",
       "         0.03956204,  0.03956085],\n",
       "       [ 0.00041342,  0.0324505 ,  0.02706164, ...,  0.03956324,\n",
       "         0.03956204,  0.03956085],\n",
       "       [ 0.00041342,  0.0324505 ,  0.02706164, ...,  0.03956324,\n",
       "         0.03956204,  0.03956085],\n",
       "       ...,\n",
       "       [-0.00041342, -0.0324505 , -0.02706164, ..., -0.03956324,\n",
       "        -0.03956204, -0.03956085],\n",
       "       [ 0.00041342,  0.0324505 ,  0.02706164, ...,  0.03956324,\n",
       "         0.03956204,  0.03956085],\n",
       "       [-0.00041342, -0.0324505 , -0.02706164, ..., -0.03956324,\n",
       "        -0.03956204, -0.03956085]])"
      ]
     },
     "execution_count": 90,
     "metadata": {},
     "output_type": "execute_result"
    }
   ],
   "source": [
    "W"
   ]
  },
  {
   "cell_type": "code",
   "execution_count": 99,
   "metadata": {},
   "outputs": [
    {
     "data": {
      "text/plain": [
       "array([[-28735.80565802,  28374.18195598],\n",
       "       [ 28735.80565798, -28374.18195603],\n",
       "       [-28735.80565808,  28374.18195592],\n",
       "       ...,\n",
       "       [ 28735.80565807, -28374.18195594],\n",
       "       [-28735.80565805,  28374.18195595],\n",
       "       [ 28735.80565803, -28374.18195598]])"
      ]
     },
     "execution_count": 99,
     "metadata": {},
     "output_type": "execute_result"
    }
   ],
   "source": [
    "# - Wを用いて、観測データから信号源を推定する\n",
    "#   - 推定した信号源を行列Signal_jとする\n",
    "#   - signal_j = W * z_j\n",
    "\n",
    "Signal = np.matmul(W, Z)\n",
    "Signal"
   ]
  },
  {
   "cell_type": "code",
   "execution_count": 100,
   "metadata": {},
   "outputs": [
    {
     "data": {
      "text/plain": [
       "[<matplotlib.lines.Line2D at 0x11d3f0d00>]"
      ]
     },
     "execution_count": 100,
     "metadata": {},
     "output_type": "execute_result"
    },
    {
     "data": {
      "image/png": "[encoded data removed]",
      "text/plain": [
       "<Figure size 640x480 with 1 Axes>"
      ]
     },
     "metadata": {},
     "output_type": "display_data"
    }
   ],
   "source": [
    "plt.plot(Signal[:,0])"
   ]
  },
  {
   "cell_type": "code",
   "execution_count": null,
   "metadata": {},
   "outputs": [],
   "source": []
  }
 ],
 "metadata": {
  "kernelspec": {
   "display_name": "Python 3",
   "language": "python",
   "name": "python3"
  },
  "language_info": {
   "codemirror_mode": {
    "name": "ipython",
    "version": 3
   },
   "file_extension": ".py",
   "mimetype": "text/x-python",
   "name": "python",
   "nbconvert_exporter": "python",
   "pygments_lexer": "ipython3",
   "version": "3.9.6"
  }
 },
 "nbformat": 4,
 "nbformat_minor": 2
}
